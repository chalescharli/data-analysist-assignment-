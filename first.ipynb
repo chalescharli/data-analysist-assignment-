{
 "cells": [
  {
   "cell_type": "code",
   "execution_count": 1,
   "metadata": {},
   "outputs": [],
   "source": [
    "import numpy as np\n",
    "import pandas as pd\n",
    "from sklearn.cluster import KMeans\n",
    "from sklearn.preprocessing import StandardScaler\n"
   ]
  },
  {
   "cell_type": "code",
   "execution_count": 2,
   "metadata": {},
   "outputs": [
    {
     "ename": "FileNotFoundError",
     "evalue": "[Errno 2] No such file or directory: 'C:\\\\Users\\\\naini\\\\Downloads\\\\test.xlsx'",
     "output_type": "error",
     "traceback": [
      "\u001b[1;31m---------------------------------------------------------------------------\u001b[0m",
      "\u001b[1;31mFileNotFoundError\u001b[0m                         Traceback (most recent call last)",
      "Cell \u001b[1;32mIn[2], line 2\u001b[0m\n\u001b[0;32m      1\u001b[0m \u001b[38;5;66;03m# Load the data\u001b[39;00m\n\u001b[1;32m----> 2\u001b[0m data \u001b[38;5;241m=\u001b[39m \u001b[43mpd\u001b[49m\u001b[38;5;241;43m.\u001b[39;49m\u001b[43mread_excel\u001b[49m\u001b[43m(\u001b[49m\u001b[38;5;124;43mr\u001b[39;49m\u001b[38;5;124;43m\"\u001b[39;49m\u001b[38;5;124;43mC:\u001b[39;49m\u001b[38;5;124;43m\\\u001b[39;49m\u001b[38;5;124;43mUsers\u001b[39;49m\u001b[38;5;124;43m\\\u001b[39;49m\u001b[38;5;124;43mnaini\u001b[39;49m\u001b[38;5;124;43m\\\u001b[39;49m\u001b[38;5;124;43mDownloads\u001b[39;49m\u001b[38;5;124;43m\\\u001b[39;49m\u001b[38;5;124;43mtest.xlsx\u001b[39;49m\u001b[38;5;124;43m\"\u001b[39;49m\u001b[43m)\u001b[49m\n\u001b[0;32m      4\u001b[0m \u001b[38;5;66;03m# Display the first few rows\u001b[39;00m\n\u001b[0;32m      5\u001b[0m \u001b[38;5;28mprint\u001b[39m(data\u001b[38;5;241m.\u001b[39mhead())\n",
      "File \u001b[1;32mc:\\Users\\rr749.KAALIPARI\\AppData\\Local\\Programs\\Python\\Python311\\Lib\\site-packages\\pandas\\io\\excel\\_base.py:504\u001b[0m, in \u001b[0;36mread_excel\u001b[1;34m(io, sheet_name, header, names, index_col, usecols, dtype, engine, converters, true_values, false_values, skiprows, nrows, na_values, keep_default_na, na_filter, verbose, parse_dates, date_parser, date_format, thousands, decimal, comment, skipfooter, storage_options, dtype_backend, engine_kwargs)\u001b[0m\n\u001b[0;32m    502\u001b[0m \u001b[38;5;28;01mif\u001b[39;00m \u001b[38;5;129;01mnot\u001b[39;00m \u001b[38;5;28misinstance\u001b[39m(io, ExcelFile):\n\u001b[0;32m    503\u001b[0m     should_close \u001b[38;5;241m=\u001b[39m \u001b[38;5;28;01mTrue\u001b[39;00m\n\u001b[1;32m--> 504\u001b[0m     io \u001b[38;5;241m=\u001b[39m \u001b[43mExcelFile\u001b[49m\u001b[43m(\u001b[49m\n\u001b[0;32m    505\u001b[0m \u001b[43m        \u001b[49m\u001b[43mio\u001b[49m\u001b[43m,\u001b[49m\n\u001b[0;32m    506\u001b[0m \u001b[43m        \u001b[49m\u001b[43mstorage_options\u001b[49m\u001b[38;5;241;43m=\u001b[39;49m\u001b[43mstorage_options\u001b[49m\u001b[43m,\u001b[49m\n\u001b[0;32m    507\u001b[0m \u001b[43m        \u001b[49m\u001b[43mengine\u001b[49m\u001b[38;5;241;43m=\u001b[39;49m\u001b[43mengine\u001b[49m\u001b[43m,\u001b[49m\n\u001b[0;32m    508\u001b[0m \u001b[43m        \u001b[49m\u001b[43mengine_kwargs\u001b[49m\u001b[38;5;241;43m=\u001b[39;49m\u001b[43mengine_kwargs\u001b[49m\u001b[43m,\u001b[49m\n\u001b[0;32m    509\u001b[0m \u001b[43m    \u001b[49m\u001b[43m)\u001b[49m\n\u001b[0;32m    510\u001b[0m \u001b[38;5;28;01melif\u001b[39;00m engine \u001b[38;5;129;01mand\u001b[39;00m engine \u001b[38;5;241m!=\u001b[39m io\u001b[38;5;241m.\u001b[39mengine:\n\u001b[0;32m    511\u001b[0m     \u001b[38;5;28;01mraise\u001b[39;00m \u001b[38;5;167;01mValueError\u001b[39;00m(\n\u001b[0;32m    512\u001b[0m         \u001b[38;5;124m\"\u001b[39m\u001b[38;5;124mEngine should not be specified when passing \u001b[39m\u001b[38;5;124m\"\u001b[39m\n\u001b[0;32m    513\u001b[0m         \u001b[38;5;124m\"\u001b[39m\u001b[38;5;124man ExcelFile - ExcelFile already has the engine set\u001b[39m\u001b[38;5;124m\"\u001b[39m\n\u001b[0;32m    514\u001b[0m     )\n",
      "File \u001b[1;32mc:\\Users\\rr749.KAALIPARI\\AppData\\Local\\Programs\\Python\\Python311\\Lib\\site-packages\\pandas\\io\\excel\\_base.py:1563\u001b[0m, in \u001b[0;36mExcelFile.__init__\u001b[1;34m(self, path_or_buffer, engine, storage_options, engine_kwargs)\u001b[0m\n\u001b[0;32m   1561\u001b[0m     ext \u001b[38;5;241m=\u001b[39m \u001b[38;5;124m\"\u001b[39m\u001b[38;5;124mxls\u001b[39m\u001b[38;5;124m\"\u001b[39m\n\u001b[0;32m   1562\u001b[0m \u001b[38;5;28;01melse\u001b[39;00m:\n\u001b[1;32m-> 1563\u001b[0m     ext \u001b[38;5;241m=\u001b[39m \u001b[43minspect_excel_format\u001b[49m\u001b[43m(\u001b[49m\n\u001b[0;32m   1564\u001b[0m \u001b[43m        \u001b[49m\u001b[43mcontent_or_path\u001b[49m\u001b[38;5;241;43m=\u001b[39;49m\u001b[43mpath_or_buffer\u001b[49m\u001b[43m,\u001b[49m\u001b[43m \u001b[49m\u001b[43mstorage_options\u001b[49m\u001b[38;5;241;43m=\u001b[39;49m\u001b[43mstorage_options\u001b[49m\n\u001b[0;32m   1565\u001b[0m \u001b[43m    \u001b[49m\u001b[43m)\u001b[49m\n\u001b[0;32m   1566\u001b[0m     \u001b[38;5;28;01mif\u001b[39;00m ext \u001b[38;5;129;01mis\u001b[39;00m \u001b[38;5;28;01mNone\u001b[39;00m:\n\u001b[0;32m   1567\u001b[0m         \u001b[38;5;28;01mraise\u001b[39;00m \u001b[38;5;167;01mValueError\u001b[39;00m(\n\u001b[0;32m   1568\u001b[0m             \u001b[38;5;124m\"\u001b[39m\u001b[38;5;124mExcel file format cannot be determined, you must specify \u001b[39m\u001b[38;5;124m\"\u001b[39m\n\u001b[0;32m   1569\u001b[0m             \u001b[38;5;124m\"\u001b[39m\u001b[38;5;124man engine manually.\u001b[39m\u001b[38;5;124m\"\u001b[39m\n\u001b[0;32m   1570\u001b[0m         )\n",
      "File \u001b[1;32mc:\\Users\\rr749.KAALIPARI\\AppData\\Local\\Programs\\Python\\Python311\\Lib\\site-packages\\pandas\\io\\excel\\_base.py:1419\u001b[0m, in \u001b[0;36minspect_excel_format\u001b[1;34m(content_or_path, storage_options)\u001b[0m\n\u001b[0;32m   1416\u001b[0m \u001b[38;5;28;01mif\u001b[39;00m \u001b[38;5;28misinstance\u001b[39m(content_or_path, \u001b[38;5;28mbytes\u001b[39m):\n\u001b[0;32m   1417\u001b[0m     content_or_path \u001b[38;5;241m=\u001b[39m BytesIO(content_or_path)\n\u001b[1;32m-> 1419\u001b[0m \u001b[38;5;28;01mwith\u001b[39;00m \u001b[43mget_handle\u001b[49m\u001b[43m(\u001b[49m\n\u001b[0;32m   1420\u001b[0m \u001b[43m    \u001b[49m\u001b[43mcontent_or_path\u001b[49m\u001b[43m,\u001b[49m\u001b[43m \u001b[49m\u001b[38;5;124;43m\"\u001b[39;49m\u001b[38;5;124;43mrb\u001b[39;49m\u001b[38;5;124;43m\"\u001b[39;49m\u001b[43m,\u001b[49m\u001b[43m \u001b[49m\u001b[43mstorage_options\u001b[49m\u001b[38;5;241;43m=\u001b[39;49m\u001b[43mstorage_options\u001b[49m\u001b[43m,\u001b[49m\u001b[43m \u001b[49m\u001b[43mis_text\u001b[49m\u001b[38;5;241;43m=\u001b[39;49m\u001b[38;5;28;43;01mFalse\u001b[39;49;00m\n\u001b[0;32m   1421\u001b[0m \u001b[43m\u001b[49m\u001b[43m)\u001b[49m \u001b[38;5;28;01mas\u001b[39;00m handle:\n\u001b[0;32m   1422\u001b[0m     stream \u001b[38;5;241m=\u001b[39m handle\u001b[38;5;241m.\u001b[39mhandle\n\u001b[0;32m   1423\u001b[0m     stream\u001b[38;5;241m.\u001b[39mseek(\u001b[38;5;241m0\u001b[39m)\n",
      "File \u001b[1;32mc:\\Users\\rr749.KAALIPARI\\AppData\\Local\\Programs\\Python\\Python311\\Lib\\site-packages\\pandas\\io\\common.py:872\u001b[0m, in \u001b[0;36mget_handle\u001b[1;34m(path_or_buf, mode, encoding, compression, memory_map, is_text, errors, storage_options)\u001b[0m\n\u001b[0;32m    863\u001b[0m         handle \u001b[38;5;241m=\u001b[39m \u001b[38;5;28mopen\u001b[39m(\n\u001b[0;32m    864\u001b[0m             handle,\n\u001b[0;32m    865\u001b[0m             ioargs\u001b[38;5;241m.\u001b[39mmode,\n\u001b[1;32m   (...)\u001b[0m\n\u001b[0;32m    868\u001b[0m             newline\u001b[38;5;241m=\u001b[39m\u001b[38;5;124m\"\u001b[39m\u001b[38;5;124m\"\u001b[39m,\n\u001b[0;32m    869\u001b[0m         )\n\u001b[0;32m    870\u001b[0m     \u001b[38;5;28;01melse\u001b[39;00m:\n\u001b[0;32m    871\u001b[0m         \u001b[38;5;66;03m# Binary mode\u001b[39;00m\n\u001b[1;32m--> 872\u001b[0m         handle \u001b[38;5;241m=\u001b[39m \u001b[38;5;28;43mopen\u001b[39;49m\u001b[43m(\u001b[49m\u001b[43mhandle\u001b[49m\u001b[43m,\u001b[49m\u001b[43m \u001b[49m\u001b[43mioargs\u001b[49m\u001b[38;5;241;43m.\u001b[39;49m\u001b[43mmode\u001b[49m\u001b[43m)\u001b[49m\n\u001b[0;32m    873\u001b[0m     handles\u001b[38;5;241m.\u001b[39mappend(handle)\n\u001b[0;32m    875\u001b[0m \u001b[38;5;66;03m# Convert BytesIO or file objects passed with an encoding\u001b[39;00m\n",
      "\u001b[1;31mFileNotFoundError\u001b[0m: [Errno 2] No such file or directory: 'C:\\\\Users\\\\naini\\\\Downloads\\\\test.xlsx'"
     ]
    }
   ],
   "source": [
    "# Load the data\n",
    "data = pd.read_excel(r\"C:\\Users\\naini\\Downloads\\test.xlsx\")\n",
    "\n",
    "# Display the first few rows\n",
    "print(data.head())\n",
    "\n",
    "# Standardize the data\n",
    "scaler = StandardScaler()\n",
    "data_scaled = scaler.fit_transform(data)\n"
   ]
  },
  {
   "cell_type": "code",
   "execution_count": null,
   "metadata": {},
   "outputs": [
    {
     "name": "stderr",
     "output_type": "stream",
     "text": [
      "c:\\Users\\naini\\AppData\\Local\\Programs\\Python\\Python311\\Lib\\site-packages\\sklearn\\cluster\\_kmeans.py:1412: FutureWarning: The default value of `n_init` will change from 10 to 'auto' in 1.4. Set the value of `n_init` explicitly to suppress the warning\n",
      "  super()._check_params_vs_input(X, default_n_init=10)\n"
     ]
    },
    {
     "name": "stdout",
     "output_type": "stream",
     "text": [
      "   T1  T2  T3  T4  T5  T6  T7  T8  T9  T10  T11  T12  T13  T14  T15  T16  T17  \\\n",
      "0 -76 -83 -70 -66 -64 -72 -64 -69 -60  -76  -83  -78  -81  -81  -81  -70  -60   \n",
      "1 -58 -57 -78 -81 -73 -73 -78 -78 -82  -49  -55  -58  -66  -79  -72  -83  -74   \n",
      "2 -70 -70 -71 -69 -69 -68 -61 -55 -53  -82  -87  -76  -68  -57  -64  -75  -57   \n",
      "3 -71 -61 -56 -56 -61 -60 -68 -66 -72  -58  -55  -56  -58  -62  -61  -59  -64   \n",
      "4 -72 -71 -64 -69 -64 -63 -61 -42 -55  -61  -69  -67  -63  -63  -55  -49  -49   \n",
      "\n",
      "   T18  Cluster  \n",
      "0  -60        1  \n",
      "1  -80        0  \n",
      "2  -70        1  \n",
      "3  -65        2  \n",
      "4  -57        1  \n"
     ]
    }
   ],
   "source": [
    "# Apply K-Means\n",
    "kmeans = KMeans(n_clusters=3, random_state=42)\n",
    "kmeans.fit(data_scaled)\n",
    "\n",
    "# Get cluster labels\n",
    "data['Cluster'] = kmeans.labels_\n",
    "\n",
    "# Display the data with cluster labels\n",
    "print(data.head())\n"
   ]
  },
  {
   "cell_type": "code",
   "execution_count": null,
   "metadata": {},
   "outputs": [
    {
     "name": "stdout",
     "output_type": "stream",
     "text": [
      "Cluster: 2, Reason: The data point belongs to cluster 2 because it is closest to the centroid of this cluster.\n"
     ]
    },
    {
     "name": "stderr",
     "output_type": "stream",
     "text": [
      "c:\\Users\\naini\\AppData\\Local\\Programs\\Python\\Python311\\Lib\\site-packages\\sklearn\\base.py:464: UserWarning: X does not have valid feature names, but StandardScaler was fitted with feature names\n",
      "  warnings.warn(\n"
     ]
    }
   ],
   "source": [
    "def predict_cluster(new_data_point):\n",
    "    # Standardize the new data point\n",
    "    new_data_point_scaled = scaler.transform([new_data_point])\n",
    "    \n",
    "    # Predict the cluster\n",
    "    cluster_label = kmeans.predict(new_data_point_scaled)\n",
    "    \n",
    "    # Explain why the point belongs to the cluster\n",
    "    explanation = f'The data point belongs to cluster {cluster_label[0]} because it is closest to the centroid of this cluster.'\n",
    "    \n",
    "    return cluster_label[0], explanation\n",
    "\n",
    "# Example new data point (replace with actual values)\n",
    "new_data_point = [1.2, 2.3, 3.1, 4.0, 5.1, 6.2, 7.3, 8.4, 9.5, 10.6, 11.7, 12.8, 13.9, 14.0, 15.1, 16.2, 17.3, 18.4]\n",
    "\n",
    "# Predict cluster and get explanation\n",
    "cluster, reason = predict_cluster(new_data_point)\n",
    "print(f'Cluster: {cluster}, Reason: {reason}')\n"
   ]
  },
  {
   "cell_type": "code",
   "execution_count": null,
   "metadata": {},
   "outputs": [
    {
     "name": "stdout",
     "output_type": "stream",
     "text": [
      "Cluster 0 characteristics:\n",
      "                T1           T2           T3           T4           T5  \\\n",
      "count  4140.000000  4140.000000  4140.000000  4140.000000  4140.000000   \n",
      "mean    -60.231401   -59.475121   -63.840580   -69.181643   -70.881643   \n",
      "std       9.588417     7.137460     7.608708     6.937881     6.860393   \n",
      "min     -95.000000   -95.000000   -95.000000   -95.000000   -95.000000   \n",
      "25%     -65.000000   -64.000000   -68.000000   -72.000000   -75.000000   \n",
      "50%     -59.000000   -61.000000   -64.000000   -68.000000   -70.000000   \n",
      "75%     -54.000000   -56.000000   -59.000000   -64.000000   -66.000000   \n",
      "max     -41.000000   -36.000000   -44.000000   -50.000000   -48.000000   \n",
      "\n",
      "                T6           T7           T8           T9          T10  \\\n",
      "count  4140.000000  4140.000000  4140.000000  4140.000000  4140.000000   \n",
      "mean    -69.712319   -76.182126   -78.245652   -76.741304   -58.748309   \n",
      "std       6.890795     6.332509     5.800692     6.414037     9.148129   \n",
      "min     -95.000000   -95.000000   -95.000000   -95.000000   -95.000000   \n",
      "25%     -74.000000   -80.000000   -81.000000   -82.000000   -63.000000   \n",
      "50%     -69.000000   -76.000000   -78.000000   -76.000000   -57.000000   \n",
      "75%     -65.000000   -73.000000   -75.000000   -72.000000   -53.000000   \n",
      "max     -52.000000   -62.000000   -56.000000   -53.000000   -42.000000   \n",
      "\n",
      "               T11          T12          T13          T14          T15  \\\n",
      "count  4140.000000  4140.000000  4140.000000  4140.000000  4140.000000   \n",
      "mean    -60.838889   -64.111111   -66.378261   -73.874155   -72.380193   \n",
      "std       9.402743     8.702693     8.042134     7.616177     7.803079   \n",
      "min     -95.000000   -95.000000   -95.000000   -95.000000   -95.000000   \n",
      "25%     -64.000000   -68.000000   -70.000000   -78.000000   -76.000000   \n",
      "50%     -59.000000   -62.000000   -66.000000   -73.000000   -71.000000   \n",
      "75%     -55.000000   -58.000000   -61.000000   -69.000000   -67.000000   \n",
      "max     -44.000000   -44.000000   -50.000000   -50.000000   -54.000000   \n",
      "\n",
      "               T16          T17          T18  Cluster  \n",
      "count  4140.000000  4140.000000  4140.000000   4140.0  \n",
      "mean    -74.636232   -76.367150   -77.676329      0.0  \n",
      "std       9.043613     7.430729     7.319550      0.0  \n",
      "min     -95.000000   -95.000000   -95.000000      0.0  \n",
      "25%     -79.000000   -80.000000   -80.000000      0.0  \n",
      "50%     -73.000000   -74.000000   -76.000000      0.0  \n",
      "75%     -67.000000   -72.000000   -73.000000      0.0  \n",
      "max     -44.000000   -51.000000   -64.000000      0.0  \n",
      "\n",
      "\n",
      "Cluster 1 characteristics:\n",
      "                T1           T2           T3           T4           T5  \\\n",
      "count  5411.000000  5411.000000  5411.000000  5411.000000  5411.000000   \n",
      "mean    -72.362780   -71.711883   -70.165773   -69.259656   -66.235631   \n",
      "std       5.770453     5.935604     6.606000     4.768236     5.594369   \n",
      "min     -95.000000   -95.000000   -95.000000   -95.000000   -95.000000   \n",
      "25%     -76.000000   -75.000000   -74.000000   -71.000000   -69.000000   \n",
      "50%     -73.000000   -71.000000   -70.000000   -69.000000   -66.000000   \n",
      "75%     -68.000000   -68.000000   -65.000000   -66.000000   -63.000000   \n",
      "max     -59.000000   -57.000000   -58.000000   -57.000000   -48.000000   \n",
      "\n",
      "                T6           T7           T8           T9          T10  \\\n",
      "count  5411.000000  5411.000000  5411.000000  5411.000000  5411.000000   \n",
      "mean    -64.966365   -62.581039   -58.505452   -56.656625   -74.084088   \n",
      "std       7.063612     6.996265     7.700596     7.716296     7.967781   \n",
      "min     -95.000000   -95.000000   -95.000000   -83.000000   -95.000000   \n",
      "25%     -71.000000   -66.000000   -64.000000   -61.000000   -79.000000   \n",
      "50%     -64.000000   -62.000000   -58.000000   -56.000000   -74.000000   \n",
      "75%     -59.000000   -57.000000   -53.000000   -51.000000   -69.000000   \n",
      "max     -47.000000   -47.000000   -40.000000   -39.000000   -55.000000   \n",
      "\n",
      "               T11          T12          T13          T14          T15  \\\n",
      "count  5411.000000  5411.000000  5411.000000  5411.000000  5411.000000   \n",
      "mean    -73.215302   -73.199409   -69.036777   -62.644058   -63.640732   \n",
      "std       7.242539     6.248014     6.267861     6.669494     8.057322   \n",
      "min     -95.000000   -95.000000   -95.000000   -95.000000   -95.000000   \n",
      "25%     -78.000000   -78.000000   -73.000000   -65.000000   -68.000000   \n",
      "50%     -73.000000   -73.000000   -68.000000   -62.000000   -64.000000   \n",
      "75%     -67.000000   -69.000000   -65.000000   -58.000000   -58.000000   \n",
      "max     -59.000000   -60.000000   -50.000000   -49.000000   -38.000000   \n",
      "\n",
      "               T16          T17          T18  Cluster  \n",
      "count  5411.000000  5411.000000  5411.000000   5411.0  \n",
      "mean    -58.806505   -58.608760   -57.691739      1.0  \n",
      "std       7.919587     7.512783     7.362866      0.0  \n",
      "min     -95.000000   -95.000000   -95.000000      1.0  \n",
      "25%     -63.000000   -64.000000   -63.000000      1.0  \n",
      "50%     -58.000000   -58.000000   -58.000000      1.0  \n",
      "75%     -54.000000   -52.000000   -53.000000      1.0  \n",
      "max     -41.000000   -43.000000   -39.000000      1.0  \n",
      "\n",
      "\n",
      "Cluster 2 characteristics:\n",
      "               T1           T2           T3           T4           T5  \\\n",
      "count  6201.00000  6201.000000  6201.000000  6201.000000  6201.000000   \n",
      "mean    -63.97194   -61.578294   -60.031930   -59.140300   -58.871634   \n",
      "std       6.53629     8.425616     6.694071     7.505008     6.684308   \n",
      "min     -95.00000   -95.000000   -82.000000   -80.000000   -83.000000   \n",
      "25%     -68.00000   -68.000000   -64.000000   -65.000000   -63.000000   \n",
      "50%     -64.00000   -61.000000   -60.000000   -59.000000   -59.000000   \n",
      "75%     -60.00000   -57.000000   -55.000000   -54.000000   -55.000000   \n",
      "max     -43.00000   -37.000000   -42.000000   -41.000000   -32.000000   \n",
      "\n",
      "                T6           T7           T8           T9          T10  \\\n",
      "count  6201.000000  6201.000000  6201.000000  6201.000000  6201.000000   \n",
      "mean    -57.497984   -64.845509   -66.220126   -66.283503   -62.585712   \n",
      "std       6.975721     8.107523     6.463752     6.971042     7.912044   \n",
      "min     -81.000000   -95.000000   -95.000000   -86.000000   -95.000000   \n",
      "25%     -62.000000   -70.000000   -70.000000   -71.000000   -68.000000   \n",
      "50%     -57.000000   -65.000000   -66.000000   -66.000000   -62.000000   \n",
      "75%     -53.000000   -59.000000   -62.000000   -61.000000   -58.000000   \n",
      "max     -39.000000   -46.000000   -46.000000   -49.000000   -41.000000   \n",
      "\n",
      "               T11          T12          T13          T14          T15  \\\n",
      "count  6201.000000  6201.000000  6201.000000  6201.000000  6201.000000   \n",
      "mean    -62.098855   -61.264473   -57.935978   -59.787615   -60.380906   \n",
      "std       7.012804     6.898554     5.380454     8.130104     7.534890   \n",
      "min     -95.000000   -95.000000   -95.000000   -95.000000   -95.000000   \n",
      "25%     -67.000000   -66.000000   -61.000000   -65.000000   -65.000000   \n",
      "50%     -63.000000   -62.000000   -58.000000   -60.000000   -61.000000   \n",
      "75%     -57.000000   -56.000000   -54.000000   -56.000000   -56.000000   \n",
      "max     -43.000000   -43.000000   -44.000000   -39.000000   -43.000000   \n",
      "\n",
      "               T16          T17          T18  Cluster  \n",
      "count  6201.000000  6201.000000  6201.000000   6201.0  \n",
      "mean    -62.083857   -65.346234   -66.985647      2.0  \n",
      "std       8.197073     6.934714     6.632590      0.0  \n",
      "min     -95.000000   -95.000000   -95.000000      2.0  \n",
      "25%     -67.000000   -68.000000   -71.000000      2.0  \n",
      "50%     -61.000000   -65.000000   -66.000000      2.0  \n",
      "75%     -57.000000   -61.000000   -63.000000      2.0  \n",
      "max     -41.000000   -47.000000   -53.000000      2.0  \n",
      "\n",
      "\n"
     ]
    }
   ],
   "source": [
    "for i in range(kmeans.n_clusters):\n",
    "    cluster_points = data[data['Cluster'] == i]\n",
    "    print(f'Cluster {i} characteristics:')\n",
    "    print(cluster_points.describe())\n",
    "    print('\\n')\n"
   ]
  }
 ],
 "metadata": {
  "kernelspec": {
   "display_name": "Python 3",
   "language": "python",
   "name": "python3"
  },
  "language_info": {
   "codemirror_mode": {
    "name": "ipython",
    "version": 3
   },
   "file_extension": ".py",
   "mimetype": "text/x-python",
   "name": "python",
   "nbconvert_exporter": "python",
   "pygments_lexer": "ipython3",
   "version": "3.11.5"
  }
 },
 "nbformat": 4,
 "nbformat_minor": 2
}
