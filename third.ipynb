{
 "cells": [
  {
   "cell_type": "code",
   "execution_count": 5,
   "metadata": {},
   "outputs": [
    {
     "name": "stdout",
     "output_type": "stream",
     "text": [
      "        date      time  sensor location  number activity position location.1\n",
      "0 2024-01-16  10:10:30     0.0       A1       1   placed   inside         A1\n",
      "1 2024-01-16  10:12:30     1.0       A2       1   picked   inside         A2\n",
      "2 2024-01-16  10:28:30     1.0       A3       1   picked   Inside         A3\n",
      "3 2024-01-16  10:38:20     0.0       A4       1   placed   Inside         A4\n",
      "4 2024-01-16  10:45:20     1.0       A5       1   placed   inside         A5\n",
      "         date      A1     A10     A11      A12      A13      A14     A15  \\\n",
      "0  2024-01-16  1850.0   840.0  1560.0    540.0    960.0  80830.0   840.0   \n",
      "1  2024-01-17   660.0   480.0  2040.0  75490.0  75070.0    180.0  2880.0   \n",
      "2  2024-01-18  4060.0  3340.0   928.0   2100.0    360.0    180.0   780.0   \n",
      "\n",
      "       A16     A17  ...    A33  A34      A4      A5      A6      A7      A8  \\\n",
      "0  80230.0   540.0  ...    0.0  0.0  1020.0  2100.0  2220.0   900.0  1200.0   \n",
      "1      0.0     0.0  ...    0.0  0.0  4260.0   240.0   600.0    60.0   960.0   \n",
      "2    600.0  3590.0  ...  440.0  0.0  1400.0  2610.0   943.0  2467.0  3447.0   \n",
      "\n",
      "       A9  picking  placing  \n",
      "0   960.0      0.0      0.0  \n",
      "1  4380.0      0.0      0.0  \n",
      "2   480.0      0.0      0.0  \n",
      "\n",
      "[3 rows x 37 columns]\n"
     ]
    }
   ],
   "source": [
    "import pandas as pd\n",
    "\n",
    "# Load the raw data from an Excel file\n",
    "data = pd.read_excel(r\"C:\\Users\\naini\\Downloads\\rawdata.xlsx\")\n",
    "\n",
    "# Display the first few rows to understand the structure\n",
    "print(data.head())\n",
    "\n",
    "# Combine 'date' and 'time' columns into a 'datetime' column\n",
    "data['datetime'] = pd.to_datetime(data['date'].astype(str) + ' ' + data['time'].astype(str))\n",
    "\n",
    "# Sort data by 'datetime' to ensure proper duration calculation\n",
    "data = data.sort_values(by='datetime')\n",
    "\n",
    "# Calculate duration between consecutive events for each sensor (assuming the sensor ID is present)\n",
    "# We will use the 'shift' method to get the next event's datetime\n",
    "data['next_datetime'] = data.groupby('sensor')['datetime'].shift(-1)\n",
    "\n",
    "# Calculate duration in seconds\n",
    "data['duration'] = (data['next_datetime'] - data['datetime']).dt.total_seconds()\n",
    "\n",
    "# Replace NaN durations (which occur at the end of each group) with 0 or an appropriate value\n",
    "data['duration'] = data['duration'].fillna(0)\n",
    "\n",
    "# Extract the date for grouping\n",
    "data['date'] = data['datetime'].dt.date\n",
    "\n",
    "# Group by 'date' and 'location' to calculate total duration for 'inside' and 'outside'\n",
    "duration_summary = data.groupby(['date', 'location'])['duration'].sum().unstack(fill_value=0).reset_index()\n",
    "\n",
    "# Filter data for picking and placing activities\n",
    "picking_placing_data = data[data['activity'].isin(['picking', 'placing'])]\n",
    "\n",
    "# Group by 'date' and 'activity' to count occurrences\n",
    "activity_summary = picking_placing_data.groupby(['date', 'activity']).size().unstack(fill_value=0).reset_index()\n",
    "\n",
    "# Ensure columns for picking and placing exist, even if they have no activities on some dates\n",
    "activity_summary = activity_summary.reindex(columns=['date', 'picking', 'placing'], fill_value=0)\n",
    "\n",
    "# Merge duration and activity summaries\n",
    "result = pd.merge(duration_summary, activity_summary, on='date', how='outer').fillna(0)\n",
    "\n",
    "# Output the result to an Excel file\n",
    "result.to_excel('output_summary.xlsx', index=False)\n",
    "\n",
    "# Display the result\n",
    "print(result)\n"
   ]
  }
 ],
 "metadata": {
  "kernelspec": {
   "display_name": "Python 3",
   "language": "python",
   "name": "python3"
  },
  "language_info": {
   "codemirror_mode": {
    "name": "ipython",
    "version": 3
   },
   "file_extension": ".py",
   "mimetype": "text/x-python",
   "name": "python",
   "nbconvert_exporter": "python",
   "pygments_lexer": "ipython3",
   "version": "3.11.4"
  }
 },
 "nbformat": 4,
 "nbformat_minor": 2
}
